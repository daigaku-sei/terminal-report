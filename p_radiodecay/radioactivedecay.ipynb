{
 "cells": [
  {
   "cell_type": "markdown",
   "id": "8ee10071-4085-4e8c-a12c-f69eb469948a",
   "metadata": {},
   "source": [
    "# Radioactive Decay Demo  🔬⚛️☢️\n",
    "🌡️ pip install radioactivedecay (current 0.4.21 of Aug 13, 2023)\n",
    "\n",
    "1. 🗄️ get data\n",
    "\n",
    "2. 📈 draw images\n"
   ]
  },
  {
   "cell_type": "code",
   "execution_count": null,
   "id": "2c5a0dc4-8436-4e5f-9fcc-43a3e1b3a8e1",
   "metadata": {},
   "outputs": [],
   "source": [
    "import main"
   ]
  },
  {
   "cell_type": "code",
   "execution_count": null,
   "id": "8ea1ec7e-f51f-460a-8c97-351135598b7b",
   "metadata": {},
   "outputs": [],
   "source": []
  }
 ],
 "metadata": {
  "kernelspec": {
   "display_name": "anaconda-panel-2023.05-py310",
   "language": "python",
   "name": "conda-env-anaconda-panel-2023.05-py310-py"
  },
  "language_info": {
   "codemirror_mode": {
    "name": "ipython",
    "version": 3
   },
   "file_extension": ".py",
   "mimetype": "text/x-python",
   "name": "python",
   "nbconvert_exporter": "python",
   "pygments_lexer": "ipython3",
   "version": "3.11.5"
  }
 },
 "nbformat": 4,
 "nbformat_minor": 5
}
