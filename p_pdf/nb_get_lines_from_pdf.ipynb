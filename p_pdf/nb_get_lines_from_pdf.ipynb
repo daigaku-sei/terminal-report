{
 "cells": [
  {
   "cell_type": "code",
   "execution_count": 13,
   "id": "bcb128c4-20c9-4a90-bb5c-993f205fbd9f",
   "metadata": {
    "tags": []
   },
   "outputs": [],
   "source": [
    "# -*- coding: utf-8 -*-\n",
    "\"\"\"\n",
    "Created on Thu Oct 12 03:37:11 2023\n",
    "\n",
    "@author: Placebo\n",
    "\"\"\"\n",
    "\n",
    "from ipywidgets import interact, Text\n",
    "\n",
    "\n",
    "def wid():\n",
    "    \"\"\"\n",
    "    making a nice widget\n",
    "    \"\"\"\n",
    "    interact(process_input, user_input=Text(description=\"type here\"))\n",
    "\n",
    "\n",
    "def process_input(user_input):\n",
    "    \"\"\"\n",
    "    self-explanatory\n",
    "    \"\"\"\n",
    "    words = []\n",
    "    longest_words = []\n",
    "    shortest_words = []\n",
    "    longest_word_len = 0\n",
    "    shortest_word_len = float(\"inf\")\n",
    "\n",
    "    word = \"\"\n",
    "    for i, char in enumerate(user_input):\n",
    "        if char.isalpha():\n",
    "            word += char\n",
    "        elif char == \",\":\n",
    "            if i < len(user_input) - 1 and (\n",
    "                user_input[i + 1].isspace() or user_input[i + 1] == \"\\t\"\n",
    "            ):\n",
    "                continue\n",
    "            word += char\n",
    "        elif word:\n",
    "            words.append(word)\n",
    "            if len(word) > longest_word_len:\n",
    "                longest_words = [word]\n",
    "                longest_word_len = len(word)\n",
    "            elif len(word) == longest_word_len:\n",
    "                longest_words.append(word)\n",
    "            if len(word) < shortest_word_len:\n",
    "                shortest_words = [word]\n",
    "                shortest_word_len = len(word)\n",
    "            elif len(word) == shortest_word_len:\n",
    "                shortest_words.append(word)\n",
    "            word = \"\"\n",
    "\n",
    "    if word:\n",
    "        words.append(word)\n",
    "        print(\"was her\")\n",
    "        # is new longest?\n",
    "        if len(word) > longest_word_len:\n",
    "            longest_words = [word]\n",
    "            longest_word_len = len(word)\n",
    "        # is same as longest?\n",
    "        elif len(word) == longest_word_len:\n",
    "            longest_words.append(word)\n",
    "        # is new shortest?\n",
    "        if len(word) < shortest_word_len:\n",
    "            shortest_words = [word]\n",
    "            shortest_word_len = len(word)\n",
    "        # is same as shortest?\n",
    "        elif len(word) == shortest_word_len:\n",
    "            shortest_words.append(word)\n",
    "\n",
    "    print(\"Words:\")\n",
    "    for word in words:\n",
    "        print(word)\n",
    "    print(\"Total count:\", len(words))\n",
    "    print(\"Longest words:\", longest_words)\n",
    "    print(\"Longest word length:\", longest_word_len)\n",
    "    print(\"Shortest words:\", shortest_words)\n",
    "    print(\"Shortest word length:\", shortest_word_len)\n"
   ]
  },
  {
   "cell_type": "code",
   "execution_count": null,
   "id": "7a11efe2-673f-4ba2-a479-905855e7bb01",
   "metadata": {},
   "outputs": [],
   "source": []
  },
  {
   "cell_type": "code",
   "execution_count": 14,
   "id": "cc0b5447-a541-4024-aeac-15a08a0ce0fe",
   "metadata": {
    "tags": []
   },
   "outputs": [
    {
     "data": {
      "application/vnd.jupyter.widget-view+json": {
       "model_id": "4549744fa35b49a7b6d427929a4da21e",
       "version_major": 2,
       "version_minor": 0
      },
      "text/plain": [
       "interactive(children=(Text(value='', description='type here'), Output()), _dom_classes=('widget-interact',))"
      ]
     },
     "metadata": {},
     "output_type": "display_data"
    }
   ],
   "source": [
    "wid()"
   ]
  },
  {
   "cell_type": "code",
   "execution_count": null,
   "id": "57e9a5cb-69e8-4cd8-b22e-29170aa43808",
   "metadata": {},
   "outputs": [],
   "source": []
  }
 ],
 "metadata": {
  "kernelspec": {
   "display_name": "Python 3 (ipykernel)",
   "language": "python",
   "name": "python3"
  },
  "language_info": {
   "codemirror_mode": {
    "name": "ipython",
    "version": 3
   },
   "file_extension": ".py",
   "mimetype": "text/x-python",
   "name": "python",
   "nbconvert_exporter": "python",
   "pygments_lexer": "ipython3",
   "version": "3.11.4"
  }
 },
 "nbformat": 4,
 "nbformat_minor": 5
}
