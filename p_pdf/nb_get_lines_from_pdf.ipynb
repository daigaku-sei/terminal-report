{
 "cells": [
  {
   "cell_type": "markdown",
   "id": "c3833b17",
   "metadata": {},
   "source": [
	"# pypdf Demo 🔬\n",
    "#🌡️ run !pip install pypdf",
	
   ]
  },
  {
   "cell_type": "code",
   "execution_count": null,
   "id": "015af242",
   "metadata": {},
   "outputs": [],
   "source": [
    "import get_lines_from_pdf"
   ]
  }
 ],
 "metadata": {
  "kernelspec": {
   "display_name": "Python 3 (ipykernel)",
   "language": "python",
   "name": "python3"
  },
  "language_info": {
   "codemirror_mode": {
    "name": "ipython",
    "version": 3
   },
   "file_extension": ".py",
   "mimetype": "text/x-python",
   "name": "python",
   "nbconvert_exporter": "python",
   "pygments_lexer": "ipython3",
   "version": "3.11.4"
  }
 },
 "nbformat": 4,
 "nbformat_minor": 5
}
